{
 "cells": [
  {
   "cell_type": "markdown",
   "metadata": {},
   "source": [
    "![title](img/logo.png)\n",
    "# Biometrics System Concepts\n",
    "## Assignment 1: Evaluating performance of biometric systems\n",
    "<b>Name</b>: Roberto Hernandez Ruiz |\n",
    "<b>Student-nr</b>: 0873235 |\n",
    "<b>Date</b>: March 25, 2022\n",
    "---\n",
    "\n",
    "In this assignment we focus on evaluating the performance of any biometric system in a verification and identification setting. \n",
    "\n",
    "Before you get started you should be able to properly distinguish verification from identification and know the corresponding validation procedures. If this is not the case for you yet, **review the lecture notes!** We will give a short recap to refresh your memory: \n",
    "* **VERIFICATION** (a.k.a. authentication): Authenticating a claimed identity (is this person who he/she claims to be?).\n",
    "\n",
    "* **IDENTIFICATION**: Associate a particular individual with an identity (who is this unidentified individual?).\n",
    "\n",
    "This document is structured as follows:\n",
    "\n",
    "- [I. Reading the data](#I.-Reading-the-data)\n",
    "- [II. Validation of verification system](#II.-Validation-of-verification-system)\n",
    "- [III. Validation of identification system](#III.-Validation-of-identification-system)\n",
    "- [IV. Assignment Instructions](#IV.-Assignment-Instructions)\n",
    "\n",
    "\n",
    "Code examples will be provided below. You can and are invited to adapt these at your will (different parameter settings, different choices of alogorithmic components). The code examples in this assignment are just sekeleton code,  **adapt where needed! And try to keep things structured!** "
   ]
  },
  {
   "cell_type": "code",
   "execution_count": 1,
   "metadata": {
    "jupyter": {
     "outputs_hidden": true
    }
   },
   "outputs": [],
   "source": [
    "# Install and import the required python packages to run this notebook. Feel free to add more packages whenever needed.\n",
    "\n",
    "import numpy as np\n",
    "import matplotlib.pyplot as plt\n",
    "# the following meta-command is required to get plots displayed in notebooks\n",
    "%matplotlib inline\n",
    "\n",
    "# package for reading xml files\n",
    "import xml.etree.ElementTree as ET\n",
    "\n",
    "import os\n",
    "\n",
    "# package for data analysis with fast and flexible data structures\n",
    "import pandas as pd\n",
    "\n",
    "# package to show a nice graphical progress-bar for lengthy calculations\n",
    "# docu and installation on https://tqdm.github.io\n",
    "# if you have difficulties installing this package: \n",
    "# - make sure your jupyter lab is up to date\n",
    "# - https://github.com/tqdm/tqdm/issues/394#issuecomment-384743637\n",
    "# - consider just leaving it out (just remove the 'tqdm_notebook' in the code)\n",
    "from tqdm.notebook import tqdm as tqdm_notebook\n",
    "\n",
    "# import local modules for reading and converting BSSR1 fingerprint score data\n",
    "import src.BSSR1 as BSSR1\n",
    "import pickle\n",
    "import seaborn as sns"
   ]
  },
  {
   "cell_type": "markdown",
   "metadata": {},
   "source": [
    "<div class=\"alert alert-block alert-info\">\n",
    "<b>Tip:</b> \n",
    "Many operations have already been implemented in <a href=\"https://docs.scipy.org/doc/numpy/index.html\">SciPy</a>, feel free to use them or any other unless explicitely stated not to in the assignment.</div>"
   ]
  },
  {
   "cell_type": "markdown",
   "metadata": {},
   "source": [
    "## I. Reading the data\n",
    "In this assignment we focus on the validation of a pre-exising biometric system. We will make use of actual predicted fingerprint similarity scores, from the left and right index fingers. This bypasses all steps of preprocessing, feature extraction and matching and allows us to concentrate on the score evaluation procedures. The scores are the result of comparing an enrolled user's image with the score of the same (genuine scores) or another user (impostor scores). The data (biometrics scores set BSSR1) are made available through the American National Institute of Standards and Technologies [(NIST)](https://www.nist.gov/itl/iad/image-group/nist-biometric-scores-set-bssr1). They are provided as part of your assignment folder in the `data/fing-x-fing` subfolder. \n",
    "\n",
    "In this code example we will compare the performance of a biometric system that was based on the right index finger to a biometric system based on the left index finger. These systems are referred to as `ri` and `li` respectively in both code and text.  "
   ]
  },
  {
   "cell_type": "markdown",
   "metadata": {},
   "source": [
    "### 1.1. Loading the similarity matrix and reading the genuine and impostor scores\n",
    "We provide you with the code to read the scores from the files (normally you can leave this code as-is).\n",
    "\n",
    "The code consits of 2 steps that are executed for both the `ri` and `li` system: \n",
    "1. Scores are converted to similarity matrices. To simplify the task we have provided you with the similarity matrices. You need to load the similarity matrices with the genuine scores on the diagonal and the impostor scores on the off-diagonal elements.  \n",
    "2. Convert the original scores to a linear list of scores with associated labels of genuine or impostor (simplifies use of [scikit-learn](https://scikit-learn.org/stable/index.html))\n",
    "\n",
    "For more information about the structure of the original data, have a look at the <a href=\"./data/fing_x_fing/README.html\">readme</a>.\n",
    "\n"
   ]
  },
  {
   "cell_type": "code",
   "execution_count": 49,
   "metadata": {
    "tags": []
   },
   "outputs": [],
   "source": [
    "# STEP 1: loading the similarity matrices for left and right index fingers\n",
    "with open('./data/li_similarity_matrix.pickle', 'rb') as f:\n",
    "    li_similarity_matrix = pickle.load(f)\n",
    "with open('./data/ri_similarity_matrix.pickle', 'rb') as f:\n",
    "    ri_similarity_matrix = pickle.load(f)"
   ]
  },
  {
   "cell_type": "code",
   "execution_count": 47,
   "metadata": {
    "tags": []
   },
   "outputs": [],
   "source": [
    "# STEP 2: convert to genuine and impostor scores, the *_genuine_id provides a mask for the genuine scores\n",
    "li_genuine_id, li_scores = BSSR1.sim2scores(li_similarity_matrix)\n",
    "ri_genuine_id, ri_scores = BSSR1.sim2scores(ri_similarity_matrix)"
   ]
  },
  {
   "cell_type": "code",
   "execution_count": 33,
   "metadata": {},
   "outputs": [
    {
     "name": "stdout",
     "output_type": "stream",
     "text": [
      "[1. 1. 1. ... 0. 0. 0.]\n",
      "(array([0., 1.]), array([999000,   1000]))\n",
      "(1000000,)\n",
      "[0.18320611 0.27099237 0.0648855  ... 0.03053435 0.02290076 0.01145038]\n",
      "(1000000,)\n"
     ]
    },
    {
     "data": {
      "text/html": [
       "<div>\n",
       "<style scoped>\n",
       "    .dataframe tbody tr th:only-of-type {\n",
       "        vertical-align: middle;\n",
       "    }\n",
       "\n",
       "    .dataframe tbody tr th {\n",
       "        vertical-align: top;\n",
       "    }\n",
       "\n",
       "    .dataframe thead th {\n",
       "        text-align: right;\n",
       "    }\n",
       "</style>\n",
       "<table border=\"1\" class=\"dataframe\">\n",
       "  <thead>\n",
       "    <tr style=\"text-align: right;\">\n",
       "      <th></th>\n",
       "      <th>11173</th>\n",
       "      <th>61011</th>\n",
       "      <th>252763</th>\n",
       "      <th>104335</th>\n",
       "      <th>120817</th>\n",
       "      <th>212803</th>\n",
       "      <th>220990</th>\n",
       "      <th>155031</th>\n",
       "      <th>07490</th>\n",
       "      <th>79831</th>\n",
       "      <th>...</th>\n",
       "      <th>120252</th>\n",
       "      <th>15178</th>\n",
       "      <th>252210</th>\n",
       "      <th>230790</th>\n",
       "      <th>55363</th>\n",
       "      <th>27997</th>\n",
       "      <th>46808</th>\n",
       "      <th>27629</th>\n",
       "      <th>258358</th>\n",
       "      <th>49868</th>\n",
       "    </tr>\n",
       "    <tr>\n",
       "      <th>subject_id</th>\n",
       "      <th></th>\n",
       "      <th></th>\n",
       "      <th></th>\n",
       "      <th></th>\n",
       "      <th></th>\n",
       "      <th></th>\n",
       "      <th></th>\n",
       "      <th></th>\n",
       "      <th></th>\n",
       "      <th></th>\n",
       "      <th></th>\n",
       "      <th></th>\n",
       "      <th></th>\n",
       "      <th></th>\n",
       "      <th></th>\n",
       "      <th></th>\n",
       "      <th></th>\n",
       "      <th></th>\n",
       "      <th></th>\n",
       "      <th></th>\n",
       "      <th></th>\n",
       "    </tr>\n",
       "  </thead>\n",
       "  <tbody>\n",
       "    <tr>\n",
       "      <th>11173</th>\n",
       "      <td>48.0</td>\n",
       "      <td>4.0</td>\n",
       "      <td>5.0</td>\n",
       "      <td>7.0</td>\n",
       "      <td>9.0</td>\n",
       "      <td>5.0</td>\n",
       "      <td>9.0</td>\n",
       "      <td>4.0</td>\n",
       "      <td>9.0</td>\n",
       "      <td>6.0</td>\n",
       "      <td>...</td>\n",
       "      <td>8.0</td>\n",
       "      <td>10.0</td>\n",
       "      <td>6.0</td>\n",
       "      <td>6.0</td>\n",
       "      <td>5.0</td>\n",
       "      <td>9.0</td>\n",
       "      <td>9.0</td>\n",
       "      <td>4.0</td>\n",
       "      <td>9.0</td>\n",
       "      <td>7.0</td>\n",
       "    </tr>\n",
       "    <tr>\n",
       "      <th>61011</th>\n",
       "      <td>5.0</td>\n",
       "      <td>71.0</td>\n",
       "      <td>6.0</td>\n",
       "      <td>7.0</td>\n",
       "      <td>10.0</td>\n",
       "      <td>5.0</td>\n",
       "      <td>4.0</td>\n",
       "      <td>4.0</td>\n",
       "      <td>6.0</td>\n",
       "      <td>5.0</td>\n",
       "      <td>...</td>\n",
       "      <td>6.0</td>\n",
       "      <td>6.0</td>\n",
       "      <td>8.0</td>\n",
       "      <td>6.0</td>\n",
       "      <td>8.0</td>\n",
       "      <td>4.0</td>\n",
       "      <td>12.0</td>\n",
       "      <td>6.0</td>\n",
       "      <td>7.0</td>\n",
       "      <td>6.0</td>\n",
       "    </tr>\n",
       "    <tr>\n",
       "      <th>252763</th>\n",
       "      <td>9.0</td>\n",
       "      <td>5.0</td>\n",
       "      <td>17.0</td>\n",
       "      <td>8.0</td>\n",
       "      <td>7.0</td>\n",
       "      <td>8.0</td>\n",
       "      <td>7.0</td>\n",
       "      <td>4.0</td>\n",
       "      <td>6.0</td>\n",
       "      <td>9.0</td>\n",
       "      <td>...</td>\n",
       "      <td>5.0</td>\n",
       "      <td>5.0</td>\n",
       "      <td>8.0</td>\n",
       "      <td>4.0</td>\n",
       "      <td>8.0</td>\n",
       "      <td>7.0</td>\n",
       "      <td>7.0</td>\n",
       "      <td>8.0</td>\n",
       "      <td>6.0</td>\n",
       "      <td>4.0</td>\n",
       "    </tr>\n",
       "    <tr>\n",
       "      <th>104335</th>\n",
       "      <td>8.0</td>\n",
       "      <td>6.0</td>\n",
       "      <td>9.0</td>\n",
       "      <td>11.0</td>\n",
       "      <td>5.0</td>\n",
       "      <td>5.0</td>\n",
       "      <td>5.0</td>\n",
       "      <td>5.0</td>\n",
       "      <td>6.0</td>\n",
       "      <td>3.0</td>\n",
       "      <td>...</td>\n",
       "      <td>7.0</td>\n",
       "      <td>8.0</td>\n",
       "      <td>5.0</td>\n",
       "      <td>11.0</td>\n",
       "      <td>6.0</td>\n",
       "      <td>4.0</td>\n",
       "      <td>5.0</td>\n",
       "      <td>11.0</td>\n",
       "      <td>5.0</td>\n",
       "      <td>4.0</td>\n",
       "    </tr>\n",
       "    <tr>\n",
       "      <th>120817</th>\n",
       "      <td>11.0</td>\n",
       "      <td>5.0</td>\n",
       "      <td>4.0</td>\n",
       "      <td>5.0</td>\n",
       "      <td>99.0</td>\n",
       "      <td>7.0</td>\n",
       "      <td>7.0</td>\n",
       "      <td>6.0</td>\n",
       "      <td>10.0</td>\n",
       "      <td>3.0</td>\n",
       "      <td>...</td>\n",
       "      <td>8.0</td>\n",
       "      <td>8.0</td>\n",
       "      <td>10.0</td>\n",
       "      <td>7.0</td>\n",
       "      <td>10.0</td>\n",
       "      <td>6.0</td>\n",
       "      <td>12.0</td>\n",
       "      <td>11.0</td>\n",
       "      <td>5.0</td>\n",
       "      <td>7.0</td>\n",
       "    </tr>\n",
       "    <tr>\n",
       "      <th>...</th>\n",
       "      <td>...</td>\n",
       "      <td>...</td>\n",
       "      <td>...</td>\n",
       "      <td>...</td>\n",
       "      <td>...</td>\n",
       "      <td>...</td>\n",
       "      <td>...</td>\n",
       "      <td>...</td>\n",
       "      <td>...</td>\n",
       "      <td>...</td>\n",
       "      <td>...</td>\n",
       "      <td>...</td>\n",
       "      <td>...</td>\n",
       "      <td>...</td>\n",
       "      <td>...</td>\n",
       "      <td>...</td>\n",
       "      <td>...</td>\n",
       "      <td>...</td>\n",
       "      <td>...</td>\n",
       "      <td>...</td>\n",
       "      <td>...</td>\n",
       "    </tr>\n",
       "    <tr>\n",
       "      <th>27997</th>\n",
       "      <td>9.0</td>\n",
       "      <td>4.0</td>\n",
       "      <td>5.0</td>\n",
       "      <td>5.0</td>\n",
       "      <td>6.0</td>\n",
       "      <td>8.0</td>\n",
       "      <td>16.0</td>\n",
       "      <td>5.0</td>\n",
       "      <td>4.0</td>\n",
       "      <td>6.0</td>\n",
       "      <td>...</td>\n",
       "      <td>11.0</td>\n",
       "      <td>7.0</td>\n",
       "      <td>6.0</td>\n",
       "      <td>4.0</td>\n",
       "      <td>10.0</td>\n",
       "      <td>36.0</td>\n",
       "      <td>6.0</td>\n",
       "      <td>8.0</td>\n",
       "      <td>12.0</td>\n",
       "      <td>4.0</td>\n",
       "    </tr>\n",
       "    <tr>\n",
       "      <th>46808</th>\n",
       "      <td>3.0</td>\n",
       "      <td>5.0</td>\n",
       "      <td>7.0</td>\n",
       "      <td>8.0</td>\n",
       "      <td>4.0</td>\n",
       "      <td>5.0</td>\n",
       "      <td>4.0</td>\n",
       "      <td>0.0</td>\n",
       "      <td>4.0</td>\n",
       "      <td>3.0</td>\n",
       "      <td>...</td>\n",
       "      <td>7.0</td>\n",
       "      <td>6.0</td>\n",
       "      <td>5.0</td>\n",
       "      <td>6.0</td>\n",
       "      <td>5.0</td>\n",
       "      <td>6.0</td>\n",
       "      <td>41.0</td>\n",
       "      <td>7.0</td>\n",
       "      <td>8.0</td>\n",
       "      <td>4.0</td>\n",
       "    </tr>\n",
       "    <tr>\n",
       "      <th>27629</th>\n",
       "      <td>6.0</td>\n",
       "      <td>3.0</td>\n",
       "      <td>4.0</td>\n",
       "      <td>5.0</td>\n",
       "      <td>8.0</td>\n",
       "      <td>4.0</td>\n",
       "      <td>4.0</td>\n",
       "      <td>4.0</td>\n",
       "      <td>3.0</td>\n",
       "      <td>6.0</td>\n",
       "      <td>...</td>\n",
       "      <td>4.0</td>\n",
       "      <td>5.0</td>\n",
       "      <td>3.0</td>\n",
       "      <td>3.0</td>\n",
       "      <td>3.0</td>\n",
       "      <td>5.0</td>\n",
       "      <td>4.0</td>\n",
       "      <td>19.0</td>\n",
       "      <td>3.0</td>\n",
       "      <td>6.0</td>\n",
       "    </tr>\n",
       "    <tr>\n",
       "      <th>258358</th>\n",
       "      <td>7.0</td>\n",
       "      <td>5.0</td>\n",
       "      <td>11.0</td>\n",
       "      <td>6.0</td>\n",
       "      <td>7.0</td>\n",
       "      <td>11.0</td>\n",
       "      <td>13.0</td>\n",
       "      <td>5.0</td>\n",
       "      <td>5.0</td>\n",
       "      <td>5.0</td>\n",
       "      <td>...</td>\n",
       "      <td>6.0</td>\n",
       "      <td>9.0</td>\n",
       "      <td>8.0</td>\n",
       "      <td>5.0</td>\n",
       "      <td>7.0</td>\n",
       "      <td>6.0</td>\n",
       "      <td>6.0</td>\n",
       "      <td>14.0</td>\n",
       "      <td>145.0</td>\n",
       "      <td>4.0</td>\n",
       "    </tr>\n",
       "    <tr>\n",
       "      <th>49868</th>\n",
       "      <td>7.0</td>\n",
       "      <td>3.0</td>\n",
       "      <td>0.0</td>\n",
       "      <td>4.0</td>\n",
       "      <td>7.0</td>\n",
       "      <td>3.0</td>\n",
       "      <td>5.0</td>\n",
       "      <td>6.0</td>\n",
       "      <td>4.0</td>\n",
       "      <td>3.0</td>\n",
       "      <td>...</td>\n",
       "      <td>3.0</td>\n",
       "      <td>7.0</td>\n",
       "      <td>7.0</td>\n",
       "      <td>3.0</td>\n",
       "      <td>3.0</td>\n",
       "      <td>8.0</td>\n",
       "      <td>8.0</td>\n",
       "      <td>6.0</td>\n",
       "      <td>3.0</td>\n",
       "      <td>105.0</td>\n",
       "    </tr>\n",
       "  </tbody>\n",
       "</table>\n",
       "<p>1000 rows × 1000 columns</p>\n",
       "</div>"
      ],
      "text/plain": [
       "            11173  61011  252763  104335  120817  212803  220990  155031  \\\n",
       "subject_id                                                                 \n",
       "11173        48.0    4.0     5.0     7.0     9.0     5.0     9.0     4.0   \n",
       "61011         5.0   71.0     6.0     7.0    10.0     5.0     4.0     4.0   \n",
       "252763        9.0    5.0    17.0     8.0     7.0     8.0     7.0     4.0   \n",
       "104335        8.0    6.0     9.0    11.0     5.0     5.0     5.0     5.0   \n",
       "120817       11.0    5.0     4.0     5.0    99.0     7.0     7.0     6.0   \n",
       "...           ...    ...     ...     ...     ...     ...     ...     ...   \n",
       "27997         9.0    4.0     5.0     5.0     6.0     8.0    16.0     5.0   \n",
       "46808         3.0    5.0     7.0     8.0     4.0     5.0     4.0     0.0   \n",
       "27629         6.0    3.0     4.0     5.0     8.0     4.0     4.0     4.0   \n",
       "258358        7.0    5.0    11.0     6.0     7.0    11.0    13.0     5.0   \n",
       "49868         7.0    3.0     0.0     4.0     7.0     3.0     5.0     6.0   \n",
       "\n",
       "            07490  79831  ...  120252  15178  252210  230790  55363  27997  \\\n",
       "subject_id                ...                                                \n",
       "11173         9.0    6.0  ...     8.0   10.0     6.0     6.0    5.0    9.0   \n",
       "61011         6.0    5.0  ...     6.0    6.0     8.0     6.0    8.0    4.0   \n",
       "252763        6.0    9.0  ...     5.0    5.0     8.0     4.0    8.0    7.0   \n",
       "104335        6.0    3.0  ...     7.0    8.0     5.0    11.0    6.0    4.0   \n",
       "120817       10.0    3.0  ...     8.0    8.0    10.0     7.0   10.0    6.0   \n",
       "...           ...    ...  ...     ...    ...     ...     ...    ...    ...   \n",
       "27997         4.0    6.0  ...    11.0    7.0     6.0     4.0   10.0   36.0   \n",
       "46808         4.0    3.0  ...     7.0    6.0     5.0     6.0    5.0    6.0   \n",
       "27629         3.0    6.0  ...     4.0    5.0     3.0     3.0    3.0    5.0   \n",
       "258358        5.0    5.0  ...     6.0    9.0     8.0     5.0    7.0    6.0   \n",
       "49868         4.0    3.0  ...     3.0    7.0     7.0     3.0    3.0    8.0   \n",
       "\n",
       "            46808  27629  258358  49868  \n",
       "subject_id                               \n",
       "11173         9.0    4.0     9.0    7.0  \n",
       "61011        12.0    6.0     7.0    6.0  \n",
       "252763        7.0    8.0     6.0    4.0  \n",
       "104335        5.0   11.0     5.0    4.0  \n",
       "120817       12.0   11.0     5.0    7.0  \n",
       "...           ...    ...     ...    ...  \n",
       "27997         6.0    8.0    12.0    4.0  \n",
       "46808        41.0    7.0     8.0    4.0  \n",
       "27629         4.0   19.0     3.0    6.0  \n",
       "258358        6.0   14.0   145.0    4.0  \n",
       "49868         8.0    6.0     3.0  105.0  \n",
       "\n",
       "[1000 rows x 1000 columns]"
      ]
     },
     "execution_count": 33,
     "metadata": {},
     "output_type": "execute_result"
    }
   ],
   "source": [
    "# To see data\n",
    "print(li_genuine_id)\n",
    "print(np.unique(li_genuine_id,return_counts=True))\n",
    "print(li_genuine_id.shape)\n",
    "print(li_scores)\n",
    "print(li_scores.shape)\n",
    "li_similarity_matrix"
   ]
  },
  {
   "cell_type": "code",
   "execution_count": 35,
   "metadata": {},
   "outputs": [
    {
     "name": "stdout",
     "output_type": "stream",
     "text": [
      "LI: 1000 genuine scores and 999000 impostor scores.\n",
      "RI: 1000 genuine scores and 999000 impostor scores.\n"
     ]
    }
   ],
   "source": [
    "li_genuines=li_scores[li_genuine_id==1.0]\n",
    "li_impostors=li_scores[li_genuine_id==0.0]\n",
    "\n",
    "ri_genuines=ri_scores[ri_genuine_id==1.0]\n",
    "ri_impostors=ri_scores[ri_genuine_id==0.0]\n",
    "\n",
    "print(\"LI:\",len(li_genuines),\"genuine scores and\",len(li_impostors),\"impostor scores.\")\n",
    "print(\"RI:\",len(ri_genuines),\"genuine scores and\",len(ri_impostors),\"impostor scores.\")"
   ]
  },
  {
   "cell_type": "markdown",
   "metadata": {},
   "source": [
    "<div class=\"alert alert-block alert-info\">\n",
    "<b>Tip:</b> \n",
    "In this assignment we focus only on evaluating biometric systems. It is in your best interest to write your code such that it can easily be reused in the upcoming assignments, where you will have to develop entire biometric system pipelines.</div>"
   ]
  },
  {
   "cell_type": "markdown",
   "metadata": {},
   "source": [
    "## II. Validation of verification system\n",
    "\n",
    "[1]: <https://link.springer.com/book/10.1007/978-0-387-77326-1> ('Introduction to Biometrics' by AK Jain et al)\n",
    "[2]: <https://machinelearningmastery.com/roc-curves-and-precision-recall-curves-for-classification-in-python/> (How and When to Use ROC Curves and Precision-Recall Curves for Classification in Python)\n",
    "\n",
    "The performance of a verification scenario can be expressed in a number of ways (see [Jain et al.][1] section 1.4.1.1 for more information). In essence one has a binary classification problem: is it the claimed identity or not? \n",
    "\n",
    "We denote our classes as:\n",
    "<ol start=\"0\">\n",
    "  <li>Impostor (False),</li>\n",
    "  <li>Genuine (True).</li>\n",
    "</ol>\n",
    "\n",
    "Furthermore, we represent the set of scores as s, the imposter event as $I$ and a genuine event as $G$."
   ]
  },
  {
   "cell_type": "markdown",
   "metadata": {},
   "source": [
    "### 1. Evaluation using FMR, FRR, ROC and Precision/Recall curves\n",
    "\n",
    "[1]: <https://link.springer.com/book/10.1007/978-0-387-77326-1> ('Introduction to Biometrics' by AK Jain et al)\n",
    "[2]: <https://machinelearningmastery.com/roc-curves-and-precision-recall-curves-for-classification-in-python/> (How and When to Use ROC Curves and Precision-Recall Curves for Classification in Python)\n",
    "\n",
    "\n",
    "\n",
    "#### 1.1 Genuine and impostor score distributions\n",
    "Given the genuine and impostor scores (from section I), we can plot the imposter $p(s | I)$ and genuine $p(s | G)$ distribution to gain some first insights in the system. The result should look something like this:\n",
    "\n",
    "<p align=\"center\">\n",
    "    <img src=\"img/ScoreDistributions.png\" width=\"250\" height=\"auto\"/>\n",
    "</p>\n"
   ]
  },
  {
   "cell_type": "markdown",
   "metadata": {},
   "source": [
    "<div class=\"alert alert-block alert-success\">\n",
    "<b>Q1: </b> Score distributions\n",
    "<ul>\n",
    "  <li>Plot the genuine and impostor score distributions in a single plot.</li>\n",
    "  <li>Do you need to normalize the distributions? Why (not)?</li>\n",
    "  <li>Describe qualitatively this combined plot (hint: limit the score range for better understanding)</li>\n",
    "</ul>  \n",
    "</div>"
   ]
  },
  {
   "cell_type": "code",
   "execution_count": 39,
   "metadata": {},
   "outputs": [
    {
     "data": {
      "image/png": "[encoded data removed]",
      "text/plain": [
       "<Figure size 1080x360 with 2 Axes>"
      ]
     },
     "metadata": {
      "needs_background": "light"
     },
     "output_type": "display_data"
    }
   ],
   "source": [
    "fig = plt.figure(figsize=(15, 5))\n",
    "# Left finger\n",
    "fig.add_subplot(1, 2, 1)\n",
    "plt.hist(li_genuines, bins=100, alpha=0.9, label=\"Genuines\",weights=np.ones(len(li_genuines)) / len(li_genuines));\n",
    "plt.hist(li_impostors, bins=100, alpha=0.9, label=\"Impostors\", weights=np.ones(len(li_impostors)) / len(li_impostors));\n",
    "plt.xlabel(\"Matching scores\", size=10)\n",
    "plt.ylabel(\"Probability ([0,1])\", size=10)\n",
    "plt.title(\"Left finger\")\n",
    "plt.legend(loc='upper right');\n",
    "  \n",
    "# Right finger\n",
    "fig.add_subplot(1, 2, 2) # weights=np.ones(len(ri_genuines)) / len(ri_genuines)\n",
    "plt.hist(ri_genuines, bins=100, alpha=0.9, label=\"Genuines\", weights=np.ones(len(ri_genuines)) / len(ri_genuines));\n",
    "plt.hist(ri_impostors, bins=100, alpha=0.9, label=\"Impostors\", weights=np.ones(len(ri_impostors)) / len(ri_impostors));\n",
    "plt.xlabel(\"Matching scores\", size=10)\n",
    "plt.ylabel(\"Probability ([0,1])\", size=10)\n",
    "plt.title(\"Right finger\")\n",
    "plt.legend(loc='upper right');\n",
    "\n",
    "fig.suptitle(\"Score distributions\",fontsize=14);\n",
    "plt.savefig('output_imgs/score_distributions.png')"
   ]
  },
  {
   "cell_type": "code",
   "execution_count": 41,
   "metadata": {},
   "outputs": [
    {
     "name": "stdout",
     "output_type": "stream",
     "text": [
      "[0.18320611 0.27099237 0.0648855  0.04198473 0.3778626  0.16412214\n",
      " 0.73282443 0.05343511 0.20992366 0.31679389 0.21374046 0.14885496\n",
      " 0.02290076 0.24427481 0.39312977 0.63740458 0.02671756 0.26335878\n",
      " 0.20992366 0.61450382]\n"
     ]
    },
    {
     "data": {
      "text/plain": [
       "array([ 48.,  71.,  17.,  11.,  99.,  43., 192.,  14.,  55.,  83.,  56.,\n",
       "        39.,   6.,  64., 103., 167.,   7.,  69.,  55., 161.])"
      ]
     },
     "execution_count": 41,
     "metadata": {},
     "output_type": "execute_result"
    }
   ],
   "source": [
    "r = np.diag(li_similarity_matrix.values)\n",
    "print(li_genuines[:20])\n",
    "r[:20]"
   ]
  },
  {
   "cell_type": "code",
   "execution_count": 8,
   "metadata": {},
   "outputs": [
    {
     "name": "stdout",
     "output_type": "stream",
     "text": [
      "LI: ( 0.015267175572519083 , 0.17557251908396945 )\n",
      "RI: ( 0.013986013986013986 , 0.16783216783216784 )\n"
     ]
    }
   ],
   "source": [
    "# To approximately find the uncertainty interval (where both distributions overlap)\n",
    "print(\"LI: (\",min(li_genuines),\",\",max(li_impostors),\")\")\n",
    "print(\"RI: (\",min(ri_genuines),\",\",max(ri_impostors),\")\")"
   ]
  },
  {
   "cell_type": "markdown",
   "metadata": {},
   "source": [
    "#### 2. FMR, FRR and Receiver Operating Characteristic (ROC) curve\n",
    "\n",
    "The 'false accept' and 'false reject' regions in the illustration above are quantified using the False Match/Acceptance Rates (FMR/FAR) and False Non-Match/Rejections Rates (FNMR/FRR). The FMR and FNMR can easily be computed given the previously calculated probability distributions and a threshold value $\\eta$. Practically this boils down to a counting problem, having $\\mathcal{I}$ the indicator function (return 1 if x is true, else 0) we can compute:\n",
    "$$\n",
    "FMR(\\eta) = p(s \\geq \\eta | I) \\approx \\frac{1}{|I|} \\sum_{s \\in I} \\mathcal{I}(s \\geq \\eta),\n",
    "$$\n",
    "$$\n",
    "FRR(\\eta) = p(s < \\eta | G) \\approx \\frac{1}{|G|} \\sum_{s \\in G} \\mathcal{I}(s < \\eta).\n",
    "$$\n",
    "\n",
    "We can also compute the Genuine Acceptance Rate (GAR)/True Match Rate (TMR) as:\n",
    "$$\n",
    "GAR(\\eta) = p(s \\geq \\eta | G) = 1 - FRR(\\eta).\n",
    "$$\n",
    "\n",
    "Note that choosing a threshold is always a tradeof between FMR and FNMR. <br>\n",
    "<img src=\"img/FAR_FRR.png\" width=\"300\" height=\"auto\" align=\"center\"/>\n",
    "\n",
    "To observe the impact of the threshold value, one often plots a [Receiver Operating Characteristic (ROC)](https://en.wikipedia.org/wiki/Receiver_operating_characteristic) curve. Usually in these curves the GAR/TMR is plotted against the FMR for different decision threshold values $\\eta$. For those familiar with binary classification systems outside of the biometrics literature; the GAR/TMR is often referred to as the True Positive Rate (TPR), sensitivity or recall and FMR is also known as the False Positive Rate (FPR) or the False Accept Rate (FAR). \n",
    "\n",
    "<img src=\"img/ROC.png\" width=\"700\" height=\"auto\" align=\"center\"/>"
   ]
  },
  {
   "cell_type": "markdown",
   "metadata": {},
   "source": [
    "<div class=\"alert alert-block alert-success\">\n",
    "<b>Q2: </b> ROC Curves\n",
    "<ul>\n",
    "    <li>Calculate FPR, TPR from the matching scores.</li>\n",
    "    <li>Plot FAR and FRR as a function of matching scores.</li>\n",
    "    <li>Plot the ROC curve. Plot for linear and logarithmic scale if needed. What do you observe?</li>\n",
    "    <li>Plot the Detection Error Trade-off (DET) curve. How does it compare to ROC?</li>\n",
    "</ul>  \n",
    "</div>\n",
    "\n",
    "\n",
    "<div class=\"alert alert-block alert-info\">\n",
    "<b>Tip:</b> \n",
    "We highly recommend you use the <a href=\"https://scikit-learn.org/stable/index.html\">scikit-learn</a> package, it contains standard and advanced routines for machine learning, including classificaton and validation algorithms.\n",
    "</div>"
   ]
  },
  {
   "cell_type": "code",
   "execution_count": 9,
   "metadata": {
    "jupyter": {
     "outputs_hidden": true
    }
   },
   "outputs": [
    {
     "name": "stdout",
     "output_type": "stream",
     "text": [
      "148 148 148\n"
     ]
    }
   ],
   "source": [
    "\"\"\"Calculate FPR, TPR from the matching scores.\"\"\"\n",
    "from sklearn.metrics import roc_curve, auc, f1_score\n",
    "\n",
    "fpr_left, tpr_left, thresh_left = roc_curve(li_genuine_id, li_scores)\n",
    "fpr_right, tpr_right, thresh_right = roc_curve(ri_genuine_id, ri_scores)\n",
    "\n",
    "# Get rid of threshold=2 that does not include any useful information for us in this problem\n",
    "fpr_left = fpr_left[1:]\n",
    "tpr_left = tpr_left[1:]\n",
    "thresh_left = thresh_left[1:]\n",
    "fpr_right = fpr_right[1:]\n",
    "tpr_right = tpr_right[1:]\n",
    "thresh_right = thresh_right[1:]\n",
    "# To check if same length\n",
    "print(len(fpr_left),len(tpr_left),len(thresh_left))"
   ]
  },
  {
   "cell_type": "code",
   "execution_count": 10,
   "metadata": {},
   "outputs": [
    {
     "data": {
      "image/png": "[encoded data removed]",
      "text/plain": [
       "<Figure size 1080x360 with 2 Axes>"
      ]
     },
     "metadata": {
      "needs_background": "light"
     },
     "output_type": "display_data"
    }
   ],
   "source": [
    "fig = plt.figure(figsize=(15, 5))\n",
    "\n",
    "# FAR <=> FPR: False Acceptance Rate \n",
    "fig.add_subplot(1, 2, 1)\n",
    "plt.plot(thresh_left,fpr_left,label=\"Left finger\"); \n",
    "plt.plot(thresh_right,fpr_right,label=\"Right finger\");\n",
    "plt.xlabel(\"Thresholds\", size=10)\n",
    "plt.ylabel(\"FAR\", size=10)\n",
    "plt.title(\"FAR\")\n",
    "plt.legend(loc='center right');\n",
    "plt.grid()\n",
    "  \n",
    "# FRR <=> FNR <=> FN/P <=> 1-TPR : False Rejection Rate\n",
    "fig.add_subplot(1, 2, 2)\n",
    "plt.plot(thresh_left, 1-tpr_left, label=\"Left finger\"); \n",
    "plt.plot(thresh_right, 1-tpr_right, label=\"Right finger\");\n",
    "plt.xlabel(\"Thresholds\", size=10)\n",
    "plt.ylabel(\"FRR\", size=10)\n",
    "plt.title(\"FRR\")\n",
    "plt.legend(loc='center right');\n",
    "plt.grid()\n",
    "\n",
    "fig.suptitle(\"FAR and FRR vs Thresholds\", fontsize=14)\n",
    "plt.savefig('output_imgs/far_frr_thresholds.png')"
   ]
  },
  {
   "cell_type": "code",
   "execution_count": 11,
   "metadata": {
    "jupyter": {
     "outputs_hidden": true
    }
   },
   "outputs": [
    {
     "data": {
      "image/png": "[encoded data removed]",
      "text/plain": [
       "<Figure size 1080x360 with 2 Axes>"
      ]
     },
     "metadata": {
      "needs_background": "light"
     },
     "output_type": "display_data"
    }
   ],
   "source": [
    "\"\"\"plot the ROC curve (TPR against the FPR for different threshold values)\"\"\"\n",
    "fig = plt.figure(figsize=(15, 5))\n",
    "\n",
    "# ROC curve\n",
    "fig.add_subplot(1, 2, 1)\n",
    "plt.plot(fpr_left,tpr_left,label='ROC (left)');\n",
    "plt.plot(fpr_right,tpr_right,label='ROC (right)');\n",
    "plt.legend()\n",
    "plt.grid()\n",
    "plt.xlabel(\"FAR\", size=10)\n",
    "plt.ylabel(\"1-FRR\", size=10)\n",
    "plt.title(\"ROC curve\")\n",
    "  \n",
    "# ROC curve (log scale)\n",
    "fig.add_subplot(1, 2, 2)\n",
    "plt.plot(fpr_left,tpr_left,label='ROC (left)');\n",
    "plt.plot(fpr_right,tpr_right,label='ROC (right)');\n",
    "plt.legend()\n",
    "plt.xlabel(\"FAR\", size=10)\n",
    "plt.ylabel(\"1-FRR\", size=10)\n",
    "plt.xscale('log')\n",
    "plt.grid()\n",
    "plt.title(\"ROC curve (log scale)\")\n",
    "fig.suptitle(\"ROC curves\", fontsize=14)\n",
    "plt.savefig('output_imgs/roc_curves.png')"
   ]
  },
  {
   "cell_type": "code",
   "execution_count": 12,
   "metadata": {
    "jupyter": {
     "outputs_hidden": true
    }
   },
   "outputs": [
    {
     "data": {
      "image/png": "[encoded data removed]",
      "text/plain": [
       "<Figure size 432x288 with 1 Axes>"
      ]
     },
     "metadata": {
      "needs_background": "light"
     },
     "output_type": "display_data"
    }
   ],
   "source": [
    "\"\"\"plot the DET curve (FRR (=1-tpr) against the FAR for different threshold values)\"\"\"\n",
    "plt.plot(fpr_left,1-tpr_left,label='Left finger');\n",
    "plt.plot(fpr_right,1-tpr_right,label='Right finger');\n",
    "plt.xlabel(\"FAR\", size=10)\n",
    "plt.ylabel(\"FRR\", size=10)\n",
    "plt.title(\"DET curves\")\n",
    "plt.grid()\n",
    "plt.legend()\n",
    "plt.savefig('output_imgs/det_curves.png')"
   ]
  },
  {
   "cell_type": "markdown",
   "metadata": {},
   "source": [
    "#### 3. F1 and accuracy as metrics\n",
    "\n",
    "While biometric systems are, traditionally, evaluated using FMR and FRR and ROC/DET curves, we can also have a look at traditional [classification metrics](https://scikit-learn.org/stable/modules/model_evaluation.html#classification-metrics) such as classification accuracy (or error) and F1 measure. "
   ]
  },
  {
   "cell_type": "markdown",
   "metadata": {},
   "source": [
    "<div class=\"alert alert-block alert-success\">\n",
    "<b>Q3: </b> Classification Metrics\n",
    "<ul>\n",
    "    <li>Plot F1 and accuracy as a function of the decision thresholds on the similarity score.</li>\n",
    "    <li>Calculate the threshold and accuracy for which F1 is maximal. Is it an interesting operating point?</li>\n",
    "    <li>Do the same for the classification error (accuracy). Is there a difference?</li>\n",
    "    <li>Is accuracy a good performance metric in this case?</li>\n",
    "</ul>  \n",
    "</div>\n",
    "\n",
    "<div class=\"alert alert-block alert-info\">\n",
    "<b>Tip:</b> \n",
    "We highly recommend you use the <a href=\"https://scikit-learn.org/stable/modules/model_evaluation.html#classification-metrics\">scikit-learn classification metrics</a> to assist.\n",
    "</div>\n"
   ]
  },
  {
   "cell_type": "code",
   "execution_count": 13,
   "metadata": {
    "tags": []
   },
   "outputs": [
    {
     "name": "stdout",
     "output_type": "stream",
     "text": [
      "188 188 188\n",
      "212 212 212\n"
     ]
    }
   ],
   "source": [
    "\"\"\"Plot F1 and accuracy as a function of the decision thresholds on the similarity score.\"\"\"\n",
    "# Hint: evaluating for ± 50 threshold values should suffice\n",
    "from sklearn.metrics import accuracy_score, precision_recall_curve, precision_score, f1_score\n",
    "\n",
    "precision_left, recall_left, thresh_left2 = precision_recall_curve(li_genuine_id,li_scores)\n",
    "precision_right, recall_right, thresh_right2 = precision_recall_curve(ri_genuine_id,ri_scores)\n",
    "precision_left = precision_left[:-1]\n",
    "recall_left = recall_left[:-1]\n",
    "precision_right = precision_right[:-1]\n",
    "recall_right = recall_right[:-1]\n",
    "# To check equal dims\n",
    "print(len(precision_left),len(recall_left),len(thresh_left2))\n",
    "print(len(precision_right),len(recall_right),len(thresh_right2))\n",
    "\n",
    "# F1-SCORES\n",
    "f1_score_left = 2*(precision_left*recall_left)/(precision_left+recall_left)\n",
    "f1_score_right = 2*(precision_right*recall_right)/(precision_right+recall_right)\n",
    "\n",
    "# ACCURACY\n",
    "def calculate_acc(thresholds, genuine_scores, impostor_scores):\n",
    "    acc = []\n",
    "\n",
    "    # for each threshold\n",
    "    for t in thresholds:\n",
    "        FP, FN, TP, TN = 0, 0, 0, 0\n",
    "\n",
    "        for score in impostor_scores:\n",
    "            if score >= t:\n",
    "                FP += 1 # impostor misclassified as genuine\n",
    "            else:\n",
    "                TN += 1 # impostor correctly rejected\n",
    "\n",
    "        for score in genuine_scores:\n",
    "            if score >= t:\n",
    "                TP += 1 # genuine correctly identified\n",
    "            else:\n",
    "                FN += 1 # genuine incorrectly rejected\n",
    "\n",
    "        acc_t = float(TP + TN) / float(TP + TN + FP +FN)\n",
    "\n",
    "        acc.append(acc_t)\n",
    "        #print(t,acc_current)\n",
    "\n",
    "    return acc"
   ]
  },
  {
   "cell_type": "code",
   "execution_count": 14,
   "metadata": {},
   "outputs": [],
   "source": [
    "acc_left_finger = calculate_acc(thresh_left2,li_genuines,li_impostors)\n",
    "acc_right_finger = calculate_acc(thresh_right2,ri_genuines,ri_impostors)\n",
    "acc_left_finger = np.array(acc_left_finger)\n",
    "acc_right_finger = np.array(acc_right_finger)"
   ]
  },
  {
   "cell_type": "code",
   "execution_count": 15,
   "metadata": {},
   "outputs": [
    {
     "data": {
      "image/png": "[encoded data removed]",
      "text/plain": [
       "<Figure size 1080x360 with 2 Axes>"
      ]
     },
     "metadata": {
      "needs_background": "light"
     },
     "output_type": "display_data"
    }
   ],
   "source": [
    "fig = plt.figure(figsize=(15, 5))\n",
    "\n",
    "# Left finger\n",
    "fig.add_subplot(1, 2, 1)\n",
    "plt.plot(thresh_left2,f1_score_left,label='Left finger');\n",
    "plt.plot(thresh_right2,f1_score_right,label='Right finger');\n",
    "plt.xlabel(\"Thresholds\", size=10)\n",
    "plt.ylabel(\"F1-Score\", size=10)\n",
    "plt.legend(loc='center right')\n",
    "plt.grid()\n",
    "plt.title(\"F1-Score\")\n",
    "  \n",
    "# Right finger\n",
    "fig.add_subplot(1, 2, 2)\n",
    "plt.plot(thresh_left2,acc_left_finger,label='Left finger');\n",
    "plt.plot(thresh_right2,acc_right_finger,label='Right finger');\n",
    "plt.xlabel(\"Thresholds\", size=10)\n",
    "plt.ylabel(\"Accuracy\", size=10)\n",
    "plt.legend(loc='center right')\n",
    "plt.grid()\n",
    "plt.title(\"Accuracy\")\n",
    "fig.suptitle(\"Accuracy and F1-score curves\", fontsize=14)\n",
    "plt.savefig('output_imgs/acc_f1-score_curves.png')"
   ]
  },
  {
   "cell_type": "code",
   "execution_count": 16,
   "metadata": {
    "tags": []
   },
   "outputs": [
    {
     "name": "stdout",
     "output_type": "stream",
     "text": [
      "Max F1-score left:  0.8208027133973996\n",
      "29\n",
      "Threshold for maximal F1-score (left finger): 0.12595419847328243 \n",
      "\n",
      "Max F1-score right:  0.8731466227347611\n",
      "31\n",
      "Threshold for maximal F1-score (right finger): 0.12237762237762238\n"
     ]
    }
   ],
   "source": [
    "\"\"\"Calculate the threshold for which F1 is maximal.\"\"\"\n",
    "\n",
    "print(\"Max F1-score left: \",max(f1_score_left))\n",
    "res_left = np.where(f1_score_left == max(f1_score_left))\n",
    "max_thresh_left = thresh_left2[res_left[0][0]]\n",
    "print(res_left[0][0])\n",
    "print(\"Threshold for maximal F1-score (left finger):\",max_thresh_left,\"\\n\")\n",
    "# Right finger\n",
    "print(\"Max F1-score right: \",max(f1_score_right))\n",
    "res_right = np.where(f1_score_right == max(f1_score_right))\n",
    "max_thresh_right = thresh_right2[res_right[0][0]]\n",
    "print(res_right[0][0])\n",
    "print(\"Threshold for maximal F1-score (right finger):\",max_thresh_right)"
   ]
  },
  {
   "cell_type": "code",
   "execution_count": 17,
   "metadata": {
    "jupyter": {
     "outputs_hidden": true
    }
   },
   "outputs": [
    {
     "name": "stdout",
     "output_type": "stream",
     "text": [
      "Max accuracy left:  0.999683\n",
      "29\n",
      "Threshold for maximal accuracy (left finger): 0.12595419847328243 \n",
      "\n",
      "Max accuracy right:  0.999769\n",
      "31\n",
      "Threshold for maximal accuracy (right finger): 0.12237762237762238\n"
     ]
    }
   ],
   "source": [
    "\"\"\"Do the same for the classification error (or accuracy)\"\"\"\n",
    "\n",
    "print(\"Max accuracy left: \",max(acc_left_finger))\n",
    "res_left2 = np.where(acc_left_finger == max(acc_left_finger))\n",
    "max_thresh_left2 = thresh_left2[res_left2[0][0]]\n",
    "print(res_left2[0][0])\n",
    "print(\"Threshold for maximal accuracy (left finger):\",max_thresh_left2,\"\\n\")\n",
    "\n",
    "# Right finger\n",
    "print(\"Max accuracy right: \",max(acc_right_finger))\n",
    "res_right2 = np.where(acc_right_finger == max(acc_right_finger))\n",
    "max_thresh_right2 = thresh_right2[res_right2[0][0]]\n",
    "print(res_right2[0][0])\n",
    "print(\"Threshold for maximal accuracy (right finger):\",max_thresh_right2)"
   ]
  },
  {
   "cell_type": "markdown",
   "metadata": {},
   "source": [
    "#### 4. AUC and EER as summary measures\n",
    "\n",
    "The overall performance (over all threshold settings) is typically expressed through:\n",
    "\n",
    "* The Area Under the Curve (AUC) (with TPR((y-axis) vs FPR (x-axis))\n",
    "\n",
    "<img src=\"img/AUC.png\" width=\"250\" height=\"auto\"/>\n",
    "\n",
    "The AUC can be used to compare different systems. The larger this number, the better.\n",
    "However, since it is a summary measure, always inspect the full ROC curve to make decisions about performance given operating conditions (in wich FRR, FAR regime to work e.g.).\n",
    "\n",
    "* The Equal Error Rate (EER), which is the point on the ROC-curve where FAR(FMR) equals FRR (1-TAR). A lower EER value indicates better performance. \n",
    "\n",
    "<img src=\"img/EER.png\" width=\"300\" height=\"300\"/>"
   ]
  },
  {
   "cell_type": "markdown",
   "metadata": {},
   "source": [
    "<div class=\"alert alert-block alert-success\">\n",
    "<b>Q4: </b> AUC, EER and alternatives\n",
    "<ul>\n",
    "    <li>Calculate ROC AUC. Is this a good metric? What does it reveal about the system? </li>\n",
    "    <li>Calculate (by approximation) the EER and plot it on the FAR-FRR curve. Is this a good peration point?</li>\n",
    "    <li>Calculate the decision threshold for which the sum of FRR and FAR is minimal. Is this point similar to the total classification error?</li> \n",
    "    <li>Can you suggest other strategies that give you an \"optimal\" performance? Calculate and discuss their (de)merits.</li>\n",
    "</ul>  \n",
    "</div>\n"
   ]
  },
  {
   "cell_type": "code",
   "execution_count": 18,
   "metadata": {
    "jupyter": {
     "outputs_hidden": true
    }
   },
   "outputs": [
    {
     "name": "stdout",
     "output_type": "stream",
     "text": [
      "ROC AUC (left): 0.9712470650650652\n",
      "ROC AUC (right): 0.9826611286286285\n"
     ]
    }
   ],
   "source": [
    "\"\"\"Calculate the ROC AUC.\"\"\"\n",
    "roc_auc_left = auc(fpr_left, tpr_left)\n",
    "roc_auc_right = auc(fpr_right, tpr_right)\n",
    "print(\"ROC AUC (left):\",roc_auc_left)\n",
    "print(\"ROC AUC (right):\",roc_auc_right)"
   ]
  },
  {
   "cell_type": "code",
   "execution_count": 19,
   "metadata": {
    "jupyter": {
     "outputs_hidden": true
    }
   },
   "outputs": [
    {
     "data": {
      "image/png": "[encoded data removed]",
      "text/plain": [
       "<Figure size 432x288 with 1 Axes>"
      ]
     },
     "metadata": {
      "needs_background": "light"
     },
     "output_type": "display_data"
    }
   ],
   "source": [
    "\"\"\"Calculate (by approximation) the EER and plot it on the FAR-FRR curve.\"\"\"\n",
    "\n",
    "# hints:\n",
    "#  - avoid using a library that directly computes the EER for this assignment \n",
    "\n",
    "plt.plot(1-tpr_left,fpr_left, label=\"Left finger\");\n",
    "plt.plot(fpr_left,fpr_left,color='black')\n",
    "plt.plot(1-tpr_right,fpr_right, label='Right finger');\n",
    "plt.xlabel(\"FRR\", size=10)\n",
    "plt.ylabel(\"FAR\", size=10)\n",
    "plt.legend()\n",
    "plt.title(\"EER point\")\n",
    "plt.grid()\n",
    "\n",
    "plt.savefig('output_imgs/eer.png')"
   ]
  },
  {
   "cell_type": "code",
   "execution_count": 20,
   "metadata": {
    "jupyter": {
     "outputs_hidden": true
    }
   },
   "outputs": [
    {
     "name": "stdout",
     "output_type": "stream",
     "text": [
      "Left finger: \n",
      "Minimal sum of FRR and FAR: 0.13406206206206206\n",
      "Index 134\n",
      "Threshold for minimum FRR+FAR: 0.05725190839694656 \n",
      "\n",
      "\n",
      "Right finger: \n",
      "Minimal sum of FRR and FAR: 0.0998348348348348\n",
      "Index 151\n",
      "Threshold for minimum FRR+FAR: 0.05944055944055944\n"
     ]
    }
   ],
   "source": [
    "\"\"\"Calculate the decision threshold for which the sum of FRR and FAR is minimal.\"\"\"\n",
    "# hint: same as above\n",
    "\n",
    "suma_left = (1-tpr_left) + fpr_left\n",
    "res = np.where(suma_left == min(suma_left))\n",
    "print(\"Left finger: \\nMinimal sum of FRR and FAR:\",min(suma_left))\n",
    "print(\"Index\",res[0][0])\n",
    "minimo_left = thresh_left[res[0][0]]\n",
    "print(\"Threshold for minimum FRR+FAR:\",minimo_left,\"\\n\")\n",
    "\n",
    "# Right finger\n",
    "suma_right = (1-tpr_right) + fpr_right\n",
    "res = np.where(suma_right == min(suma_right))\n",
    "print(\"\\nRight finger: \\nMinimal sum of FRR and FAR:\",min(suma_right))\n",
    "print(\"Index\",res[0][0])\n",
    "minimo_right = thresh_right[res[0][0]]\n",
    "print(\"Threshold for minimum FRR+FAR:\",minimo_right)"
   ]
  },
  {
   "cell_type": "markdown",
   "metadata": {},
   "source": [
    "#### 5. Evaluation using Precision and Recall\n",
    "\n",
    "[1]: <https://link.springer.com/book/10.1007/978-0-387-77326-1> ('Introduction to Biometrics' by AK Jain et al)\n",
    "[2]: <https://machinelearningmastery.com/roc-curves-and-precision-recall-curves-for-classification-in-python/> (How and When to Use ROC Curves and Precision-Recall Curves for Classification in Python)\n",
    "[3]: <https://en.wikipedia.org/w/index.php?title=Information_retrieval&oldid=793358396#Average_precision> (Average precision)\n",
    "\n",
    "In a general binary classification setting, one also often presents Precision-Recall curves. PR-curves are sometimes summarized using the [average precision scores][3]. How and when to use ROC or PRC is discussed [here][2]. A more general discussion of these measures is provided [here](https://towardsdatascience.com/beyond-accuracy-precision-and-recall-3da06bea9f6c).  \n",
    "\n",
    "Scikit-Learn provides routines for calculating these curves and numbers as demonstrated in the code below from this [link][2], it also provides an implementation of the [average precision scores](https://scikit-learn.org/stable/modules/generated/sklearn.metrics.average_precision_score.html#sklearn.metrics.average_precision_score).\n"
   ]
  },
  {
   "cell_type": "markdown",
   "metadata": {},
   "source": [
    "<div class=\"alert alert-block alert-success\">\n",
    "<b>Q5: </b> Precision-Recall curves and related summary measures\n",
    "<ul>\n",
    "    <li>Calculate and plot the Precision-Recall curve for this system. What does it reveal about the performance of the system?</li>\n",
    "    <li>Calculate the Area Under the PR-curve. Discuss.</li>\n",
    "    <li>Calculate the average precision scores. Discuss its value.</li> \n",
    "</ul>  \n",
    "</div>\n"
   ]
  },
  {
   "cell_type": "code",
   "execution_count": 21,
   "metadata": {
    "jupyter": {
     "outputs_hidden": true
    }
   },
   "outputs": [
    {
     "data": {
      "image/png": "[encoded data removed]",
      "text/plain": [
       "<Figure size 432x288 with 1 Axes>"
      ]
     },
     "metadata": {
      "needs_background": "light"
     },
     "output_type": "display_data"
    }
   ],
   "source": [
    "\"\"\"Calculate and plot the Precision-Recall curve for this system\"\"\"\n",
    "plt.plot(recall_left,precision_left,label='Left finger');\n",
    "plt.plot(recall_right,precision_right,label='Right finger')\n",
    "plt.xlabel(\"Recall\", size=10)\n",
    "plt.ylabel(\"Precision\", size=10)\n",
    "plt.grid()\n",
    "plt.legend()\n",
    "plt.title(\"Precision-Recall curves\");\n",
    "plt.savefig('output_imgs/precision_recall_curves.png')"
   ]
  },
  {
   "cell_type": "code",
   "execution_count": 22,
   "metadata": {
    "jupyter": {
     "outputs_hidden": true
    }
   },
   "outputs": [
    {
     "name": "stdout",
     "output_type": "stream",
     "text": [
      "Area Under the PR-curve (left): 0.8024780801507487\n",
      "Area Under the PR-curve (right): 0.8617573994779721\n"
     ]
    }
   ],
   "source": [
    "\"\"\"Calculate the Area Under the PR-curve.\"\"\"\n",
    "auc_pr_left = auc(recall_left,precision_left)\n",
    "auc_pr_right = auc(recall_right,precision_right)\n",
    "print(\"Area Under the PR-curve (left):\",auc_pr_left)\n",
    "print(\"Area Under the PR-curve (right):\",auc_pr_right)"
   ]
  },
  {
   "cell_type": "code",
   "execution_count": 23,
   "metadata": {
    "jupyter": {
     "outputs_hidden": true
    }
   },
   "outputs": [
    {
     "name": "stdout",
     "output_type": "stream",
     "text": [
      "Average precision score (left): 0.7988972537365139\n",
      "Average precision score (right): 0.8595122882879992\n"
     ]
    }
   ],
   "source": [
    "\"\"\"Calculate the average precision scores\"\"\"\n",
    "#np.mean(precision_left)\n",
    "from sklearn.metrics import average_precision_score\n",
    "avg_precision_left = average_precision_score(li_genuine_id,li_scores)\n",
    "avg_precision_right = average_precision_score(ri_genuine_id,ri_scores)\n",
    "print(\"Average precision score (left):\",avg_precision_left)\n",
    "print(\"Average precision score (right):\",avg_precision_right)"
   ]
  },
  {
   "cell_type": "markdown",
   "metadata": {},
   "source": [
    "## III. Validation of identification system "
   ]
  },
  {
   "cell_type": "markdown",
   "metadata": {},
   "source": [
    "### Evaluation using CMC curves\n",
    "In an identification scenario one has a 1-to-many or multi-class classification problem. The performance of such a system is typically measured by the Cumulative Match Characteristic (CMC) curve. This curve plots the experimental probability that a correct identification is returned within the top-x (x=1, ..., N) ranked matching scores. \n",
    "\n",
    "<img src=\"img/CMC.jpg\" width=\"500\" height=\"auto\"/>\n",
    "\n",
    "[Bolle et al.](https://ieeexplore.ieee.org/document/1544394) show that:\n",
    "> the CMC is also related to the FAR and FRR of a 1:1 matcher, i.e., the matcher that is used to rank the candidates by sorting the scores. This has as a consequence that when a 1:1 matcher is used for identification, that is, for sorting match scores from high to low, the CMC does not offer any additional information beyond the FAR and FRR curves. The CMC is just another way of displaying the data and can be computed from the FAR and FRR.\n",
    "\n",
    "This paper is not mandatory but those interested can have a look at it.\n",
    "\n",
    "CMC curves can easily be generated once you have the ranked matching scores for every test sample. In our example we can easily calculate it from the similarity matrix (note that in this very particular case we have only one genuine pair per test sample). \n",
    "\n"
   ]
  },
  {
   "cell_type": "markdown",
   "metadata": {},
   "source": [
    "<div class=\"alert alert-block alert-success\">\n",
    "<b>Q6: </b> CMC curves\n",
    "<ul>\n",
    "    <li>Calculate the Cumulative Matching Characteristic curve (implement this yourself)</li>\n",
    "    <li>Compute the Rank-1 Recognition Rate.</li>\n",
    "</ul>  \n",
    "</div>\n"
   ]
  },
  {
   "cell_type": "code",
   "execution_count": 52,
   "metadata": {},
   "outputs": [],
   "source": [
    "\"\"\"Calculate the Cumulative Matching Characteristic curve.\"\"\"\n",
    "# Hint: don't use a library\n",
    "\n",
    "# Order test samples (rows) from higher to lower similarity score\n",
    "# Return position of genuine score from Ground Truth\n",
    "# For each rank, calculate nbTimes_genuine_position_underRank / totalNbRows\n",
    "\n",
    "li_sim_matrix = np.copy(li_similarity_matrix.values)\n",
    "ri_sim_matrix = np.copy(ri_similarity_matrix.values)\n",
    "\n",
    "li_genuine_scores = np.diag(li_similarity_matrix.values)\n",
    "ri_genuine_scores = np.diag(ri_similarity_matrix.values)\n",
    "\n",
    "li_rank = np.zeros(1000)\n",
    "ri_rank = np.zeros(1000)\n",
    "\n",
    "def cumulative_matching_characteristic(sim_matrix,genuine_scores):\n",
    "    \n",
    "    rank=np.zeros(1000)\n",
    "    for i in range(sim_matrix.shape[1]):\n",
    "        sim_matrix[i] = np.sort(sim_matrix[i])[::-1]\n",
    "        #print(i,sim_matrix[i] )\n",
    "        #print(i,np.where(sim_matrix[i]==genuine_scores[i])[0][0])\n",
    "        rank[i]=np.where(sim_matrix[i]==genuine_scores[i])[0][0]\n",
    "        #print(rank[i])\n",
    "    #print(rank)\n",
    "    values, counts = np.unique(rank, return_counts=True)\n",
    "    #print(values, counts)\n",
    "    for i in range(1,len(values)):\n",
    "            counts[i] = counts[i] + counts[i-1]\n",
    "            #print(i,counts[i])\n",
    "            values[i] = values[i] + 1\n",
    "    return(values,counts)\n",
    "\n"
   ]
  },
  {
   "cell_type": "code",
   "execution_count": 53,
   "metadata": {},
   "outputs": [
    {
     "data": {
      "image/png": "[encoded data removed]",
      "text/plain": [
       "<Figure size 432x288 with 1 Axes>"
      ]
     },
     "metadata": {
      "needs_background": "light"
     },
     "output_type": "display_data"
    }
   ],
   "source": [
    "\"\"\"Calculate the Cumulative Matching Characteristic curve.\"\"\"\n",
    "values_left,counts_left = cumulative_matching_characteristic(li_sim_matrix,li_genuine_scores)\n",
    "values_right,counts_right = cumulative_matching_characteristic(ri_sim_matrix,ri_genuine_scores)\n",
    "\n",
    "# Plot\n",
    "plt.plot(values_left,counts_left/li_sim_matrix.shape[1],label=\"Left finger\");\n",
    "plt.plot(values_right,counts_right/ri_sim_matrix.shape[1],label=\"Right finger\");\n",
    "plt.legend();\n",
    "plt.grid();\n",
    "plt.xlabel(\"Rank\", size=10)\n",
    "plt.ylabel(\"Recognition rate\", size=10)\n",
    "plt.title(\"Cumulative Matching Characteristic curve\");\n",
    "plt.savefig('output_imgs/cmc_curves.png')"
   ]
  },
  {
   "cell_type": "code",
   "execution_count": 54,
   "metadata": {
    "jupyter": {
     "outputs_hidden": true
    }
   },
   "outputs": [
    {
     "name": "stdout",
     "output_type": "stream",
     "text": [
      "Rank-1 Recognition Rate (left finger) 0.839\n",
      "Rank-1 Recognition Rate (right finger) 0.892\n"
     ]
    }
   ],
   "source": [
    "\"\"\"compute the Rank-1 Recognition Rate.\"\"\"\n",
    "\n",
    "rank_1_left = counts_left[0]/li_sim_matrix.shape[1]\n",
    "print(\"Rank-1 Recognition Rate (left finger)\",rank_1_left)\n",
    "\n",
    "rank_1_right = counts_right[0]/ri_sim_matrix.shape[1]\n",
    "print(\"Rank-1 Recognition Rate (right finger)\",rank_1_right)"
   ]
  },
  {
   "cell_type": "markdown",
   "metadata": {},
   "source": [
    "<div class=\"alert alert-block alert-success\">\n",
    "<b>Q7: </b> Evaluate different biometric systems\n",
    "<ul>\n",
    "    <li>Use above evaluation techniques to compare the biometric system based on the left index to the right index </li>\n",
    "    <li>Do you see any differences in any of the curves or measures?</li>\n",
    "</ul>  \n",
    "</div>"
   ]
  },
  {
   "cell_type": "markdown",
   "metadata": {},
   "source": [
    "Explained in the report."
   ]
  }
 ],
 "metadata": {
  "kernelspec": {
   "display_name": "Python 3 (ipykernel)",
   "language": "python",
   "name": "python3"
  },
  "language_info": {
   "codemirror_mode": {
    "name": "ipython",
    "version": 3
   },
   "file_extension": ".py",
   "mimetype": "text/x-python",
   "name": "python",
   "nbconvert_exporter": "python",
   "pygments_lexer": "ipython3",
   "version": "3.7.7"
  }
 },
 "nbformat": 4,
 "nbformat_minor": 4
}
